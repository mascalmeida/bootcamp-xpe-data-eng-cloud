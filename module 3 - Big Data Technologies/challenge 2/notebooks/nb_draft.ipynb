{
 "cells": [
  {
   "cell_type": "code",
   "execution_count": null,
   "metadata": {},
   "outputs": [],
   "source": [
    "# GENERAL SETTINGS --------------------------------------------------------------------------------------------------------------------\n",
    "\n",
    "# Packages\n",
    "## Spark packages\n",
    "import pyspark\n",
    "from pyspark.sql import SparkSession\n",
    "## General packages\n",
    "import os\n",
    "\n",
    "# Paths\n",
    "## Main directory\n",
    "module_path = os.path.abspath(os.path.join('..'))\n",
    "## enade data directory\n",
    "enade_data_path = module_path + \"/data/raw/enade2017/data/\"\n",
    "## staging data directory\n",
    "staging_data_path = module_path + \"/data/staging/\"\n",
    "\n",
    "# Create spark session\n",
    "spark = (\n",
    "    SparkSession.builder.appName(\"challenge2_module3\")\n",
    "    .getOrCreate()\n",
    ")\n",
    "\n",
    "print('SUCCESS - GENERAL SETTINGS\\n')"
   ]
  },
  {
   "cell_type": "code",
   "execution_count": null,
   "metadata": {},
   "outputs": [],
   "source": [
    "# EXTRACTION --------------------------------------------------------------------------------------------------------------------\n",
    "## Reading data from raw layer\n",
    "raw_enade = spark.read.csv(enade_data_path, header=True, inferSchema=True, sep=';')\n",
    "print('SUCCESS - EXTRACTION\\n')"
   ]
  },
  {
   "cell_type": "code",
   "execution_count": null,
   "metadata": {},
   "outputs": [],
   "source": [
    "## Transform from .csv to parquet\n",
    "raw_enade.write.mode(\"overwrite\").parquet(staging_data_path + \"enade2017.parquet\")"
   ]
  }
 ],
 "metadata": {
  "kernelspec": {
   "display_name": "Python 3.9.13 ('bootcamp')",
   "language": "python",
   "name": "python3"
  },
  "language_info": {
   "codemirror_mode": {
    "name": "ipython",
    "version": 3
   },
   "file_extension": ".py",
   "mimetype": "text/x-python",
   "name": "python",
   "nbconvert_exporter": "python",
   "pygments_lexer": "ipython3",
   "version": "3.9.13"
  },
  "orig_nbformat": 4,
  "vscode": {
   "interpreter": {
    "hash": "fe2a757b139f1676b7c36a8a9ec4926384ef410656012fb02ac1f42c4734ebe1"
   }
  }
 },
 "nbformat": 4,
 "nbformat_minor": 2
}
