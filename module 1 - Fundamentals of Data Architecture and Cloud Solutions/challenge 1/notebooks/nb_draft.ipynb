{
 "cells": [
  {
   "cell_type": "code",
   "execution_count": 5,
   "metadata": {},
   "outputs": [],
   "source": [
    "# Packages\n",
    "import boto3\n",
    "import pandas as pd"
   ]
  },
  {
   "cell_type": "code",
   "execution_count": 6,
   "metadata": {},
   "outputs": [],
   "source": [
    "# Paths\n",
    "## Main directory\n",
    "module_path = os.path.abspath(os.path.join('..'))\n",
    "## raw-data directory\n",
    "raw_data_path = module_path + \"/data/bucket/raw-data/\"\n",
    "## consumer-zone directory\n",
    "consumer_zone_path = module_path + \"/data/bucket/consumer-zone/\""
   ]
  },
  {
   "cell_type": "code",
   "execution_count": 7,
   "metadata": {},
   "outputs": [],
   "source": [
    "# Client to access the Amazon S3 bucket\n",
    "s3_client = boto3.client('s3')"
   ]
  },
  {
   "cell_type": "code",
   "execution_count": 8,
   "metadata": {},
   "outputs": [],
   "source": [
    "# Download data from raw-data layer\n",
    "s3_client.download_file(\"datalake-mascalmeida-284935897552\", \"raw-data/MICRODADOS_ENEM_2020.csv\", raw_data_path + \"MICRODADOS_ENEM_2020.csv\")"
   ]
  },
  {
   "cell_type": "code",
   "execution_count": 9,
   "metadata": {},
   "outputs": [],
   "source": [
    "# Upload data to consumer-zone layer\n",
    "s3_client.upload_file(consumer_zone_path + \"test.csv\", \"datalake-mascalmeida-284935897552\", \"consumer-zone/test.csv\")"
   ]
  }
 ],
 "metadata": {
  "kernelspec": {
   "display_name": "Python 3.9.13 ('bootcamp')",
   "language": "python",
   "name": "python3"
  },
  "language_info": {
   "codemirror_mode": {
    "name": "ipython",
    "version": 3
   },
   "file_extension": ".py",
   "mimetype": "text/x-python",
   "name": "python",
   "nbconvert_exporter": "python",
   "pygments_lexer": "ipython3",
   "version": "3.9.13"
  },
  "orig_nbformat": 4,
  "vscode": {
   "interpreter": {
    "hash": "fe2a757b139f1676b7c36a8a9ec4926384ef410656012fb02ac1f42c4734ebe1"
   }
  }
 },
 "nbformat": 4,
 "nbformat_minor": 2
}
