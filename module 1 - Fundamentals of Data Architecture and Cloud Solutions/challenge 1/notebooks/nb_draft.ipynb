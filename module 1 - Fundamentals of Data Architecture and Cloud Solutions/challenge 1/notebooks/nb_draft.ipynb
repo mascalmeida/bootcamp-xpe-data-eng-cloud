{
 "cells": [
  {
   "cell_type": "code",
   "execution_count": 1,
   "metadata": {},
   "outputs": [],
   "source": [
    "# Packages and Paths\n",
    "import pandas as pd\n",
    "module_path = os.path.abspath(os.path.join('..'))"
   ]
  },
  {
   "cell_type": "code",
   "execution_count": 2,
   "metadata": {},
   "outputs": [],
   "source": [
    "# Extraction\n",
    "#df_enem_2020 = pd.read_csv(module_path + '\\data/bucket/raw-data\\MICRODADOS_ENEM_2020.csv', sep=';', engine=\"pyarrow\")\n",
    "#df_enem_2020 = pd.read_csv(module_path + '\\data/bucket/raw-data\\MICRODADOS_ENEM_2020.csv', sep=';', engine=\"pyarrow\", usecols=['TP_SEXO', 'NU_NOTA_MT', 'NU_NOTA_CH', 'SG_UF_ESC', 'CO_MUNICIPIO_ESC', 'NO_MUNICIPIO_ESC', 'CO_MUNICIPIO_PROVA', 'NO_MUNICIPIO_PROVA', 'Q008', 'Q002'])"
   ]
  },
  {
   "cell_type": "code",
   "execution_count": 3,
   "metadata": {},
   "outputs": [],
   "source": [
    "# Preprocessing\n",
    "#df = df_enem_2020.loc[:, ['TP_SEXO', 'NU_NOTA_MT', 'NU_NOTA_CH', 'SG_UF_ESC', 'CO_MUNICIPIO_ESC', 'NO_MUNICIPIO_ESC', 'CO_MUNICIPIO_PROVA', 'NO_MUNICIPIO_PROVA', 'Q008', 'Q002']]\n",
    "#df.loc[:, 'CO_MUNICIPIO_ESC'] = df.loc[:, 'CO_MUNICIPIO_ESC'].fillna(-1)\n",
    "#df['CO_MUNICIPIO_ESC'] = df['CO_MUNICIPIO_ESC'].astype(int)\n",
    "#df['NO_MUNICIPIO_ESC'] = df['NO_MUNICIPIO_ESC'].str.decode('latin-1')\n",
    "#df['NO_MUNICIPIO_PROVA'] = df['NO_MUNICIPIO_PROVA'].str.decode('latin-1')"
   ]
  },
  {
   "cell_type": "code",
   "execution_count": 4,
   "metadata": {},
   "outputs": [],
   "source": [
    "# Loading\n",
    "#df.to_csv(module_path + '\\data/bucket/consumer-zone\\enem2020.csv')\n",
    "#df.to_parquet(module_path + '\\data/bucket/consumer-zone\\enem2020.parquet')"
   ]
  },
  {
   "cell_type": "code",
   "execution_count": 5,
   "metadata": {},
   "outputs": [],
   "source": [
    "# Consumption\n",
    "#df = pd.read_csv(module_path + '\\data/bucket/consumer-zone\\enem2020.csv', engine=\"pyarrow\")\n",
    "# PARQUET ref: https://pythonspeed.com/articles/pandas-read-csv-fast/\n",
    "df = pd.read_parquet(module_path + '\\data/bucket/consumer-zone\\enem2020.parquet', engine=\"fastparquet\")"
   ]
  },
  {
   "cell_type": "code",
   "execution_count": 6,
   "metadata": {},
   "outputs": [
    {
     "name": "stdout",
     "output_type": "stream",
     "text": [
      "Resposta 5 = 500.6864256785915\n"
     ]
    }
   ],
   "source": [
    "# Pergunta 5 - Sobre o ENEM 2020, qual é a média da nota em matemática apenas para as alunas do sexo Feminino?\n",
    "r5 = df.loc[(df['TP_SEXO'] == 'F') & (df['NU_NOTA_MT'].notnull()), 'NU_NOTA_MT'].mean()\n",
    "print(\"Resposta 5 =\", r5)"
   ]
  },
  {
   "cell_type": "code",
   "execution_count": 7,
   "metadata": {},
   "outputs": [
    {
     "name": "stdout",
     "output_type": "stream",
     "text": [
      "Resposta 6 = 553.678013870444\n"
     ]
    }
   ],
   "source": [
    "# Pergunta 6 - Qual é a média da nota em Ciências Humanas para os alunos do sexo masculino que estudaram numa escola no estado de São Paulo?\n",
    "r6 = df.loc[\n",
    "    (df['TP_SEXO'] == 'M') & \n",
    "    (df['NU_NOTA_CH'].notnull()) &\n",
    "    (df['SG_UF_ESC'] == 'SP'), \n",
    "    'NU_NOTA_CH'\n",
    "    ].mean()\n",
    "print(\"Resposta 6 =\", r6)"
   ]
  },
  {
   "cell_type": "code",
   "execution_count": 8,
   "metadata": {},
   "outputs": [
    {
     "name": "stdout",
     "output_type": "stream",
     "text": [
      "Resposta 7 = 548.1773212818406\n"
     ]
    }
   ],
   "source": [
    "# Pergunta 7 - Qual é a média da nota em Ciências Humanas dos alunos que estudaram numa escola na cidade de Natal?\n",
    "r7 = df.loc[\n",
    "    (df['NU_NOTA_CH'].notnull()) &\n",
    "    (df['NO_MUNICIPIO_ESC'] == 'Natal'), \n",
    "    'NU_NOTA_CH'\n",
    "    ].mean()\n",
    "print(\"Resposta 7 =\", r7)"
   ]
  },
  {
   "cell_type": "code",
   "execution_count": 9,
   "metadata": {},
   "outputs": [
    {
     "name": "stdout",
     "output_type": "stream",
     "text": [
      "Resposta 8 = Novo Xingu\n"
     ]
    }
   ],
   "source": [
    "# Pergunta 8 - Qual é o município (município da escola) que obteve a maior nota MÉDIA em matemática?\n",
    "r8 = df.loc[\n",
    "    (df['NU_NOTA_MT'].notnull()) &\n",
    "    (df['CO_MUNICIPIO_ESC'] != -1), \n",
    "    ['CO_MUNICIPIO_ESC', 'NO_MUNICIPIO_ESC', 'NU_NOTA_MT']\n",
    "    ].groupby(['CO_MUNICIPIO_ESC', 'NO_MUNICIPIO_ESC']).mean().sort_values(by='NU_NOTA_MT', ascending=False).reset_index().loc[0, 'NO_MUNICIPIO_ESC']\n",
    "\n",
    "print(\"Resposta 8 =\", r8)"
   ]
  },
  {
   "cell_type": "code",
   "execution_count": 10,
   "metadata": {},
   "outputs": [
    {
     "name": "stdout",
     "output_type": "stream",
     "text": [
      "Resposta 9 = 9619\n"
     ]
    }
   ],
   "source": [
    "# Pergunta 9 - Quantas pessoas que estudaram numa escola em Recife fizeram a prova do ENEM nessa mesma cidade?\n",
    "r8 = len(df.loc[(df['NO_MUNICIPIO_ESC'] == 'Recife') & (df['NO_MUNICIPIO_PROVA'] == 'Recife'), ['NO_MUNICIPIO_PROVA', 'NO_MUNICIPIO_ESC']])\n",
    "print(\"Resposta 9 =\", r8)"
   ]
  },
  {
   "cell_type": "code",
   "execution_count": 11,
   "metadata": {},
   "outputs": [
    {
     "name": "stdout",
     "output_type": "stream",
     "text": [
      "Resposta 10 = 545.1093593959323\n"
     ]
    }
   ],
   "source": [
    "# Pergunta 10 - Qual é a nota média em Ciências Humanas dos alunos que estudaram numa escola no estado de Santa Catarina e possuem PELO MENOS 1 banheiro em casa?\n",
    "r10 = df.loc[\n",
    "    (df['NU_NOTA_CH'].notnull()) &\n",
    "    (df['SG_UF_ESC'] == 'SC') &\n",
    "    (df['Q008'] != 'A'), \n",
    "    'NU_NOTA_CH'\n",
    "    ].mean()\n",
    "print(\"Resposta 10 =\", r10)"
   ]
  },
  {
   "cell_type": "code",
   "execution_count": 12,
   "metadata": {},
   "outputs": [
    {
     "name": "stdout",
     "output_type": "stream",
     "text": [
      "Resposta 11 = 667.1279782501235\n"
     ]
    }
   ],
   "source": [
    "# Pergunta 11 - Qual é a nota média em matemática dos alunos cuja mãe possui PELO MENOS o ensino superior completo, do sexo feminino que estudaram numa escola em Belo Horizonte?\n",
    "r11 = df.loc[\n",
    "    (df['NU_NOTA_MT'].notnull()) &\n",
    "    ((df['Q002'] == 'F') | (df['Q002'] == 'G')) &\n",
    "    (df['TP_SEXO'] == 'F') &\n",
    "    (df['NO_MUNICIPIO_ESC'] == 'Belo Horizonte'), \n",
    "    'NU_NOTA_MT'\n",
    "    ].mean()\n",
    "print(\"Resposta 11 =\", r11)"
   ]
  }
 ],
 "metadata": {
  "kernelspec": {
   "display_name": "Python 3.9.13 ('bootcamp')",
   "language": "python",
   "name": "python3"
  },
  "language_info": {
   "codemirror_mode": {
    "name": "ipython",
    "version": 3
   },
   "file_extension": ".py",
   "mimetype": "text/x-python",
   "name": "python",
   "nbconvert_exporter": "python",
   "pygments_lexer": "ipython3",
   "version": "3.9.13"
  },
  "orig_nbformat": 4,
  "vscode": {
   "interpreter": {
    "hash": "0d50b20bdca1c9cd6bb97668e2b243281b8218413f72f40655cc571298e49f5d"
   }
  }
 },
 "nbformat": 4,
 "nbformat_minor": 2
}
