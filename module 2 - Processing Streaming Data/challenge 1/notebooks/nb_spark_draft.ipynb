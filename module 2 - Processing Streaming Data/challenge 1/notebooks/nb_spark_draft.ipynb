{
 "cells": [
  {
   "cell_type": "code",
   "execution_count": 27,
   "id": "6d0c9054-3a81-43ae-acc9-780d3304b472",
   "metadata": {},
   "outputs": [
    {
     "name": "stdout",
     "output_type": "stream",
     "text": [
      "SUCCESS - GENERAL SETTINGS\n",
      "\n"
     ]
    }
   ],
   "source": [
    "# GENERAL SETTINGS --------------------------------------------------------------------------------------------------------------------\n",
    "\n",
    "# Packages\n",
    "## Spark packages\n",
    "import pyspark\n",
    "from pyspark.sql import SparkSession\n",
    "## Manipulation packages\n",
    "from pyspark.sql.functions import col, size, split, max\n",
    "import pyspark.pandas as ps\n",
    "## General packages\n",
    "import os\n",
    "\n",
    "# Paths\n",
    "## Main directory\n",
    "module_path = os.path.abspath(os.path.join('..'))\n",
    "## raw directory\n",
    "raw_data_path = module_path + \"/data/raw/\"\n",
    "\n",
    "# Create spark session\n",
    "spark = (\n",
    "    SparkSession.builder.appName(\"challenge1_module2\")\n",
    "    .getOrCreate()\n",
    ")\n",
    "\n",
    "# Show only 20 rows with Pandas API\n",
    "ps.options.display.max_rows = 20\n",
    "\n",
    "print('SUCCESS - GENERAL SETTINGS\\n')"
   ]
  },
  {
   "cell_type": "code",
   "execution_count": 28,
   "id": "022b61ca-f91e-4792-83b8-9721e269cd1b",
   "metadata": {},
   "outputs": [
    {
     "name": "stderr",
     "output_type": "stream",
     "text": [
      "[Stage 70:=====================>                                    (3 + 5) / 8]\r"
     ]
    },
    {
     "name": "stdout",
     "output_type": "stream",
     "text": [
      "SUCCESS - EXTRACTION\n",
      "\n"
     ]
    },
    {
     "name": "stderr",
     "output_type": "stream",
     "text": [
      "                                                                                \r"
     ]
    }
   ],
   "source": [
    "# EXTRACTION --------------------------------------------------------------------------------------------------------------------\n",
    "## Reading data from raw layer\n",
    "raw_ratings = spark.read.csv(raw_data_path + 'title_ratings.tsv', header=True, inferSchema=True, sep='\\t')\n",
    "pd_raw_ratings = raw_ratings.pandas_api()\n",
    "raw_basics = spark.read.csv(raw_data_path + 'title_basics.tsv', header=True, inferSchema=True, sep='\\t')\n",
    "pd_raw_basics = raw_basics.pandas_api()\n",
    "print('SUCCESS - EXTRACTION\\n')"
   ]
  },
  {
   "cell_type": "code",
   "execution_count": 29,
   "id": "d9512884-e74e-4399-928a-6d446ad98ee5",
   "metadata": {},
   "outputs": [
    {
     "name": "stderr",
     "output_type": "stream",
     "text": [
      "[Stage 71:====================================>                     (5 + 3) / 8]\r"
     ]
    },
    {
     "name": "stdout",
     "output_type": "stream",
     "text": [
      "\n",
      "4 answer = 19987 \n",
      "\n"
     ]
    },
    {
     "name": "stderr",
     "output_type": "stream",
     "text": [
      "                                                                                \r"
     ]
    }
   ],
   "source": [
    "# CONSUMPTION --------------------------------------------------------------------------------------------------------------------\n",
    "## Answers\n",
    "\n",
    "### 4. Quantos filmes (incluindo os da televisão) foram lançados no ano de 2015?\n",
    "q4 = raw_basics.filter((raw_basics.startYear == 2015) & ((raw_basics.titleType == 'movie') | (raw_basics.titleType == 'tvMovie'))).count()\n",
    "print('\\n4 answer =', q4, '\\n')\n",
    "\n"
   ]
  },
  {
   "cell_type": "code",
   "execution_count": 30,
   "id": "088377de",
   "metadata": {},
   "outputs": [
    {
     "name": "stderr",
     "output_type": "stream",
     "text": [
      "[Stage 77:============================================>           (19 + 5) / 24]\r"
     ]
    },
    {
     "name": "stdout",
     "output_type": "stream",
     "text": [
      "\n",
      "5 answer = Drama \n",
      "\n"
     ]
    },
    {
     "name": "stderr",
     "output_type": "stream",
     "text": [
      "                                                                                \r"
     ]
    }
   ],
   "source": [
    "### 5. Qual o gênero de títulos mais frequente?\n",
    "#### Max of columns before the split\n",
    "n_genres_max_per_row = raw_basics.withColumn('n', size(split(col(\"genres\"), r\",\"))).select(max('n')).collect()[0][0]\n",
    "#### Split into 'n' columns\n",
    "df_genres = (raw_basics.withColumn('temp', split('genres', '\\\\,')).select(*(col('temp').getItem(i).alias(f'genre_{i}') for i in range(n_genres_max_per_row))))\n",
    "#### Stack the columns in only one column\n",
    "genre_0 = df_genres.filter(col('genre_0').isNotNull()).select('genre_0')\n",
    "genre_1 = df_genres.filter(col('genre_1').isNotNull()).select('genre_1')\n",
    "genre_2 = df_genres.filter(col('genre_2').isNotNull()).select('genre_2')\n",
    "genre_0_1 = genre_0.union(genre_1)\n",
    "genre_0_1_2 = genre_0_1.union(genre_2)\n",
    "#### Get the more frequent value\n",
    "q5 = genre_0_1_2.groupBy('genre_0').count().sort(col(\"count\").desc()).select('genre_0').collect()[0][0]\n",
    "\n",
    "print('\\n5 answer =', q5, '\\n')"
   ]
  },
  {
   "cell_type": "code",
   "execution_count": 31,
   "id": "863623b2",
   "metadata": {},
   "outputs": [
    {
     "name": "stdout",
     "output_type": "stream",
     "text": [
      "\n",
      "6 answer = to do \n",
      "\n"
     ]
    }
   ],
   "source": [
    "### 6. Qual o gênero com a melhor nota média de títulos?\n",
    "q6 = 'to do'\n",
    "print('\\n6 answer =', q6, '\\n')\n",
    "\n"
   ]
  },
  {
   "cell_type": "code",
   "execution_count": 32,
   "id": "2bf81d29",
   "metadata": {},
   "outputs": [
    {
     "name": "stdout",
     "output_type": "stream",
     "text": [
      "\n",
      "7 answer = to do \n",
      "\n"
     ]
    }
   ],
   "source": [
    "### 7. Qual o vídeo game do gênero aventura mais bem avaliado em 2020?\n",
    "q7 = 'to do'\n",
    "print('\\n7 answer =', q7, '\\n')\n",
    "\n"
   ]
  },
  {
   "cell_type": "code",
   "execution_count": 33,
   "id": "4c37fda5",
   "metadata": {},
   "outputs": [
    {
     "name": "stdout",
     "output_type": "stream",
     "text": [
      "\n",
      "9 answer = to do \n",
      "\n"
     ]
    }
   ],
   "source": [
    "### 9. Quantos títulos de filmes diferentes existem? Use df_titles.select('primaryTitle').distinct().count().\n",
    "q9 = 'to do'\n",
    "print('\\n9 answer =', q9, '\\n')\n",
    "\n"
   ]
  },
  {
   "cell_type": "code",
   "execution_count": 34,
   "id": "506fa342",
   "metadata": {},
   "outputs": [
    {
     "name": "stdout",
     "output_type": "stream",
     "text": [
      "\n",
      "10 answer = to do \n",
      "\n"
     ]
    }
   ],
   "source": [
    "### 10. Qual a duração média dos filmes com conteúdo adulto? Use uma combinação de filter() e describe().\n",
    "q10 = 'to do'\n",
    "print('\\n10 answer =', q10, '\\n')\n",
    "\n"
   ]
  },
  {
   "cell_type": "code",
   "execution_count": 35,
   "id": "3ce43499",
   "metadata": {},
   "outputs": [
    {
     "name": "stdout",
     "output_type": "stream",
     "text": [
      "\n",
      "11 answer = to do \n",
      "\n"
     ]
    }
   ],
   "source": [
    "### 11. Quantos filmes têm o título atual (“primary”) diferente do título original? Use uma combinação de filter, e count().\n",
    "q11 = 'to do'\n",
    "print('\\n11 answer =', q11, '\\n')\n",
    "\n"
   ]
  },
  {
   "cell_type": "code",
   "execution_count": 36,
   "id": "9e44e8d2",
   "metadata": {},
   "outputs": [
    {
     "name": "stdout",
     "output_type": "stream",
     "text": [
      "\n",
      "12 answer = to do \n",
      "\n"
     ]
    }
   ],
   "source": [
    "### 12. Qual o filme que tem o nome mais longo?\n",
    "q12 = 'to do'\n",
    "print('\\n12 answer =', q12, '\\n')\n",
    "\n"
   ]
  },
  {
   "cell_type": "code",
   "execution_count": 37,
   "id": "b8e3c866",
   "metadata": {},
   "outputs": [
    {
     "name": "stdout",
     "output_type": "stream",
     "text": [
      "\n",
      "13 answer = to do \n",
      "\n"
     ]
    }
   ],
   "source": [
    "### 13. Qual filme tem a maior quantidade de votos? Dica: Use describe().\n",
    "q13 = 'to do'\n",
    "print('\\n13 answer =', q13, '\\n')\n"
   ]
  },
  {
   "cell_type": "code",
   "execution_count": 38,
   "id": "31667cd9",
   "metadata": {},
   "outputs": [
    {
     "name": "stdout",
     "output_type": "stream",
     "text": [
      "\n",
      "15 answer = to do \n",
      "\n",
      "SUCCESS - CONSUMPTION\n",
      "\n"
     ]
    }
   ],
   "source": [
    "### 15. Qual é a menor nota média de um filme? Use describe().\n",
    "q15 = 'to do'\n",
    "print('\\n15 answer =', q15, '\\n')\n",
    "\n",
    "\n",
    "print('SUCCESS - CONSUMPTION\\n')"
   ]
  }
 ],
 "metadata": {
  "kernelspec": {
   "display_name": "Python 3.9.13 ('bootcamp')",
   "language": "python",
   "name": "python3"
  },
  "language_info": {
   "codemirror_mode": {
    "name": "ipython",
    "version": 3
   },
   "file_extension": ".py",
   "mimetype": "text/x-python",
   "name": "python",
   "nbconvert_exporter": "python",
   "pygments_lexer": "ipython3",
   "version": "3.9.13"
  },
  "vscode": {
   "interpreter": {
    "hash": "fe2a757b139f1676b7c36a8a9ec4926384ef410656012fb02ac1f42c4734ebe1"
   }
  }
 },
 "nbformat": 4,
 "nbformat_minor": 5
}
