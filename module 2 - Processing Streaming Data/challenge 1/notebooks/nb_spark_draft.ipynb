{
 "cells": [
  {
   "cell_type": "code",
   "execution_count": null,
   "id": "6d0c9054-3a81-43ae-acc9-780d3304b472",
   "metadata": {},
   "outputs": [],
   "source": [
    "# GENERAL SETTINGS --------------------------------------------------------------------------------------------------------------------\n",
    "\n",
    "# Packages\n",
    "## Spark packages\n",
    "import pyspark\n",
    "from pyspark.sql import SparkSession\n",
    "## Manipulation packages\n",
    "from pyspark.sql.functions import col, size, split, max, mean, length\n",
    "import pyspark.pandas as ps\n",
    "## General packages\n",
    "import os\n",
    "\n",
    "# Paths\n",
    "## Main directory\n",
    "module_path = os.path.abspath(os.path.join('..'))\n",
    "## raw directory\n",
    "raw_data_path = module_path + \"/data/raw/\"\n",
    "\n",
    "# Create spark session\n",
    "spark = (\n",
    "    SparkSession.builder.appName(\"challenge1_module2\")\n",
    "    .getOrCreate()\n",
    ")\n",
    "\n",
    "# Show only 20 rows with Pandas API\n",
    "ps.options.display.max_rows = 20\n",
    "\n",
    "print('SUCCESS - GENERAL SETTINGS\\n')"
   ]
  },
  {
   "cell_type": "code",
   "execution_count": null,
   "id": "022b61ca-f91e-4792-83b8-9721e269cd1b",
   "metadata": {},
   "outputs": [],
   "source": [
    "# EXTRACTION --------------------------------------------------------------------------------------------------------------------\n",
    "## Reading data from raw layer\n",
    "raw_ratings = spark.read.csv(raw_data_path + 'title_ratings.tsv', header=True, inferSchema=True, sep='\\t')\n",
    "pd_raw_ratings = raw_ratings.pandas_api()\n",
    "raw_basics = spark.read.csv(raw_data_path + 'title_basics.tsv', header=True, inferSchema=True, sep='\\t')\n",
    "pd_raw_basics = raw_basics.pandas_api()\n",
    "print('SUCCESS - EXTRACTION\\n')"
   ]
  },
  {
   "cell_type": "code",
   "execution_count": null,
   "id": "d9512884-e74e-4399-928a-6d446ad98ee5",
   "metadata": {},
   "outputs": [],
   "source": [
    "# CONSUMPTION --------------------------------------------------------------------------------------------------------------------\n",
    "## Answers\n",
    "\n",
    "### 4. Quantos filmes (incluindo os da televisão) foram lançados no ano de 2015?\n",
    "q4 = raw_basics.filter((raw_basics.startYear == 2015) & ((raw_basics.titleType == 'movie') | (raw_basics.titleType == 'tvMovie'))).count()\n",
    "print('\\n4 answer =', q4, '\\n')"
   ]
  },
  {
   "cell_type": "code",
   "execution_count": null,
   "id": "088377de",
   "metadata": {},
   "outputs": [],
   "source": [
    "### 5. Qual o gênero de títulos mais frequente?\n",
    "#### Max of columns before the split\n",
    "n_genres_max_per_row = raw_basics.withColumn('n', size(split(col(\"genres\"), r\",\"))).select(max('n')).collect()[0][0]\n",
    "#### Split into 'n' columns. \n",
    "# ref: https://stackoverflow.com/questions/39255973/split-1-column-into-3-columns-in-spark-scala#comment92328398_45972636\n",
    "df_genres = (raw_basics.withColumn('temp', split('genres', '\\\\,')).select(*(col('temp').getItem(i).alias(f'genre_{i}') for i in range(n_genres_max_per_row))))\n",
    "#### Stack the columns in only one column\n",
    "genre_0 = df_genres.filter(col('genre_0').isNotNull()).select('genre_0')\n",
    "genre_1 = df_genres.filter(col('genre_1').isNotNull()).select('genre_1')\n",
    "genre_2 = df_genres.filter(col('genre_2').isNotNull()).select('genre_2')\n",
    "genre_0_1 = genre_0.union(genre_1)\n",
    "genre_0_1_2 = genre_0_1.union(genre_2)\n",
    "#### Get the more frequent value\n",
    "q5 = genre_0_1_2.groupBy('genre_0').count().sort(col(\"count\").desc()).select('genre_0').collect()[0][0]\n",
    "\n",
    "print('\\n5 answer =', q5, '\\n')"
   ]
  },
  {
   "cell_type": "code",
   "execution_count": null,
   "id": "863623b2",
   "metadata": {},
   "outputs": [],
   "source": [
    "### 6. Qual o gênero com a melhor nota média de títulos?\n",
    "#### Select columns\n",
    "df_genres = raw_basics.select('tconst', 'genres')\n",
    "#### Split column into new columns by comma\n",
    "genre_0 = df_genres.withColumn('genre_0', split(df_genres['genres'], ',').getItem(0)).drop('genres').filter(col('genre_0').isNotNull())\n",
    "genre_1 = df_genres.withColumn('genre_1', split(df_genres['genres'], ',').getItem(1)).drop('genres').filter(col('genre_1').isNotNull())\n",
    "genre_2 = df_genres.withColumn('genre_2', split(df_genres['genres'], ',').getItem(2)).drop('genres').filter(col('genre_2').isNotNull())\n",
    "#### Union each dataframe in only one\n",
    "genre_0_1 = genre_0.union(genre_1)\n",
    "genre_0_1_2 = genre_0_1.union(genre_2)\n",
    "#### Join the dataframes\n",
    "df_ratings_genres = raw_ratings.join(genre_0_1_2, on=raw_ratings.tconst ==  genre_0_1_2.tconst, how=\"outer\")\n",
    "#### Get the best category by rating\n",
    "q6 = df_ratings_genres.filter(col('genre_0').isNotNull()).groupBy('genre_0').mean('averageRating').sort(col('avg(averageRating)').desc()).select('genre_0').collect()[0][0]\n",
    "print('\\n6 answer =', q6, '\\n')"
   ]
  },
  {
   "cell_type": "code",
   "execution_count": null,
   "id": "2bf81d29",
   "metadata": {},
   "outputs": [],
   "source": [
    "### 7. Qual o vídeo game do gênero aventura mais bem avaliado em 2020?\n",
    "#### Filter dataframe\n",
    "df_games = raw_basics.filter((raw_basics.titleType == 'videoGame') & (raw_basics.startYear == 2020) & (raw_basics.genres.contains('Adventure')))\n",
    "#### Join dataframes, how=left\n",
    "df_games_ratings = df_games.join(raw_ratings, on=df_games.tconst ==  raw_ratings.tconst, how=\"left\")\n",
    "#### Get the best cat by rating\n",
    "q7 = df_games_ratings.filter(col('averageRating').isNotNull()).groupBy('primaryTitle').mean('averageRating').sort(col('avg(averageRating)').desc()).select('primaryTitle').collect()[0][0]\n",
    "print('\\n7 answer =', q7, '\\n')"
   ]
  },
  {
   "cell_type": "code",
   "execution_count": null,
   "id": "4c37fda5",
   "metadata": {},
   "outputs": [],
   "source": [
    "### 9. Quantos títulos de filmes diferentes existem? Use df_titles.select('primaryTitle').distinct().count().\n",
    "#q9 = raw_basics.filter((raw_basics.titleType == 'movie') | (raw_basics.titleType == 'tvMovie')).select('primaryTitle').distinct().count()\n",
    "q9 = raw_basics.select('primaryTitle').distinct().count()\n",
    "print('\\n[BUG] 9 answer =', q9, '\\n')"
   ]
  },
  {
   "cell_type": "code",
   "execution_count": null,
   "id": "506fa342",
   "metadata": {},
   "outputs": [],
   "source": [
    "### 10. Qual a duração média dos filmes com conteúdo adulto? Use uma combinação de filter() e describe().\n",
    "#q10 = raw_basics.filter((raw_basics.isAdult == '1') & ((raw_basics.titleType == 'movie') | (raw_basics.titleType == 'tvMovie'))).describe().filter(col('summary') == 'mean').select('runtimeMinutes')\n",
    "q10 = raw_basics.filter(raw_basics.isAdult == '1').describe().filter(col('summary') == 'mean').select('runtimeMinutes')\n",
    "print('\\n[BUG] 10 answer =', q10.collect()[0][0], '\\n')"
   ]
  },
  {
   "cell_type": "code",
   "execution_count": null,
   "id": "3ce43499",
   "metadata": {},
   "outputs": [],
   "source": [
    "### 11. Quantos filmes têm o título atual (“primary”) diferente do título original? Use uma combinação de filter, e count().\n",
    "#q11 = raw_basics.filter((raw_basics.primaryTitle != raw_basics.originalTitle) & ((raw_basics.titleType == 'movie') | (raw_basics.titleType == 'tvMovie'))).count()\n",
    "q11 = raw_basics.filter((raw_basics.primaryTitle != raw_basics.originalTitle)).count()\n",
    "print('\\n[BUG] 11 answer =', q11, '\\n')"
   ]
  },
  {
   "cell_type": "code",
   "execution_count": null,
   "id": "9e44e8d2",
   "metadata": {},
   "outputs": [],
   "source": [
    "### 12. Qual o filme que tem o nome mais longo?\n",
    "# q12 = raw_basics.filter((raw_basics.titleType == 'movie') | (raw_basics.titleType == 'tvMovie')).withColumn(\"len_title\", length(col(\"primaryTitle\"))).groupBy(\"tconst\", \"primaryTitle\").max(\"len_title\").sort(col(\"max(len_title)\").desc()).collect()[0][0]\n",
    "# q12 = raw_basics.withColumn(\"len_title\", length(col(\"primaryTitle\"))).groupBy(\"tconst\", \"primaryTitle\").max(\"len_title\").sort(col(\"max(len_title)\").desc()).collect()[0][0]\n",
    "q12 = 'tt12985206'\n",
    "print('\\n[BUG] 12 answer =', q12, '\\n')\n",
    "raw_basics.withColumn(\"len_title\", length(col(\"primaryTitle\"))).groupBy(\"tconst\", \"primaryTitle\").max(\"len_title\").sort(col(\"max(len_title)\").desc()).show()"
   ]
  },
  {
   "cell_type": "code",
   "execution_count": null,
   "id": "b8e3c866",
   "metadata": {},
   "outputs": [],
   "source": [
    "### 13. Qual filme tem a maior quantidade de votos? Dica: Use describe().\n",
    "q13 = 'tt0111161'\n",
    "print('\\n[BUG] 13 answer =', q13, '\\n')\n",
    "raw_ratings.describe().show()\n",
    "raw_ratings.filter(raw_ratings.numVotes == 2449517).show()"
   ]
  },
  {
   "cell_type": "code",
   "execution_count": null,
   "id": "31667cd9",
   "metadata": {},
   "outputs": [],
   "source": [
    "### 15. Qual é a menor nota média de um filme? Use describe().\n",
    "q15 = '1.0'\n",
    "raw_ratings.describe().show()\n",
    "print('\\n[BUG] 15 answer =', q15, '\\n')\n",
    "\n",
    "print('SUCCESS - CONSUMPTION\\n')"
   ]
  }
 ],
 "metadata": {
  "kernelspec": {
   "display_name": "Python 3.9.13 ('bootcamp')",
   "language": "python",
   "name": "python3"
  },
  "language_info": {
   "codemirror_mode": {
    "name": "ipython",
    "version": 3
   },
   "file_extension": ".py",
   "mimetype": "text/x-python",
   "name": "python",
   "nbconvert_exporter": "python",
   "pygments_lexer": "ipython3",
   "version": "3.9.13"
  },
  "vscode": {
   "interpreter": {
    "hash": "fe2a757b139f1676b7c36a8a9ec4926384ef410656012fb02ac1f42c4734ebe1"
   }
  }
 },
 "nbformat": 4,
 "nbformat_minor": 5
}
