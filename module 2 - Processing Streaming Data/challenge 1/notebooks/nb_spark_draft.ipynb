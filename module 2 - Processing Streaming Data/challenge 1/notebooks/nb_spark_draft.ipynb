{
 "cells": [
  {
   "cell_type": "code",
   "execution_count": null,
   "id": "6d0c9054-3a81-43ae-acc9-780d3304b472",
   "metadata": {},
   "outputs": [],
   "source": [
    "# GENERAL SETTINGS --------------------------------------------------------------------------------------------------------------------\n",
    "\n",
    "# Packages\n",
    "## Spark packages\n",
    "import pyspark\n",
    "from pyspark.sql import SparkSession\n",
    "## General packages\n",
    "import os\n",
    "\n",
    "# Paths\n",
    "## Main directory\n",
    "module_path = os.path.abspath(os.path.join('..'))\n",
    "## raw directory\n",
    "raw_data_path = module_path + \"/data/raw/\"\n",
    "\n",
    "# Create spark session\n",
    "spark = (\n",
    "    SparkSession.builder.appName(\"challenge1_module2\")\n",
    "    .getOrCreate()\n",
    ")\n",
    "\n",
    "print('SUCCESS - GENERAL SETTINGS\\n')"
   ]
  },
  {
   "cell_type": "code",
   "execution_count": null,
   "id": "022b61ca-f91e-4792-83b8-9721e269cd1b",
   "metadata": {},
   "outputs": [],
   "source": [
    "# EXTRACTION --------------------------------------------------------------------------------------------------------------------\n",
    "## Reading data from raw layer\n",
    "raw_ratings = spark.read.csv(raw_data_path + 'title_ratings.tsv', header=True, inferSchema=True, sep='\\t')\n",
    "raw_basics = spark.read.csv(raw_data_path + 'title_basics.tsv', header=True, inferSchema=True, sep='\\t')\n",
    "print('SUCCESS - EXTRACTION\\n')"
   ]
  },
  {
   "cell_type": "code",
   "execution_count": null,
   "id": "325c2586-ffde-47e2-8fa3-cb55ade7c53c",
   "metadata": {},
   "outputs": [],
   "source": [
    "# TRANSFORMATION --------------------------------------------------------------------------------------------------------------------\n",
    "## Preprocessing\n",
    "print('SUCCESS - TRANSFORMATION\\n')"
   ]
  },
  {
   "cell_type": "code",
   "execution_count": null,
   "id": "d9512884-e74e-4399-928a-6d446ad98ee5",
   "metadata": {},
   "outputs": [],
   "source": [
    "# CONSUMPTION --------------------------------------------------------------------------------------------------------------------\n",
    "## Answers\n",
    "\n",
    "### 4. Quantos filmes (incluindo os da televisão) foram lançados no ano de 2015?\n",
    "q4 = raw_basics.filter((raw_basics.startYear == 2015) & ((raw_basics.titleType == 'movie') | (raw_basics.titleType == 'tvMovie'))).count()\n",
    "print('\\n4 answer =', q4, '\\n')\n",
    "\n",
    "### 5. Qual o gênero de títulos mais frequente?\n",
    "q5 = 'to do'\n",
    "print('\\n5 answer =', q5, '\\n')\n",
    "\n",
    "### 6. Qual o gênero com a melhor nota média de títulos?\n",
    "q6 = 'to do'\n",
    "print('\\n6 answer =', q6, '\\n')\n",
    "\n",
    "### 7. Qual o vídeo game do gênero aventura mais bem avaliado em 2020?\n",
    "q7 = 'to do'\n",
    "print('\\n7 answer =', q7, '\\n')\n",
    "\n",
    "### 9. Quantos títulos de filmes diferentes existem? Use df_titles.select('primaryTitle').distinct().count().\n",
    "q9 = 'to do'\n",
    "print('\\n9 answer =', q9, '\\n')\n",
    "\n",
    "### 10. Qual a duração média dos filmes com conteúdo adulto? Use uma combinação de filter() e describe().\n",
    "q10 = 'to do'\n",
    "print('\\n10 answer =', q10, '\\n')\n",
    "\n",
    "### 11. Quantos filmes têm o título atual (“primary”) diferente do título original? Use uma combinação de filter, e count().\n",
    "q11 = 'to do'\n",
    "print('\\n11 answer =', q11, '\\n')\n",
    "\n",
    "### 12. Qual o filme que tem o nome mais longo?\n",
    "q12 = 'to do'\n",
    "print('\\n12 answer =', q12, '\\n')\n",
    "\n",
    "### 13. Qual filme tem a maior quantidade de votos? Dica: Use describe().\n",
    "q13 = 'to do'\n",
    "print('\\n13 answer =', q13, '\\n')\n",
    "\n",
    "### 15. Qual é a menor nota média de um filme? Use describe().\n",
    "q15 = 'to do'\n",
    "print('\\n15 answer =', q15, '\\n')\n",
    "\n",
    "\n",
    "print('SUCCESS - CONSUMPTION\\n')"
   ]
  }
 ],
 "metadata": {
  "kernelspec": {
   "display_name": "Python 3.9.13 ('bootcamp')",
   "language": "python",
   "name": "python3"
  },
  "language_info": {
   "codemirror_mode": {
    "name": "ipython",
    "version": 3
   },
   "file_extension": ".py",
   "mimetype": "text/x-python",
   "name": "python",
   "nbconvert_exporter": "python",
   "pygments_lexer": "ipython3",
   "version": "3.9.13"
  },
  "vscode": {
   "interpreter": {
    "hash": "fe2a757b139f1676b7c36a8a9ec4926384ef410656012fb02ac1f42c4734ebe1"
   }
  }
 },
 "nbformat": 4,
 "nbformat_minor": 5
}
